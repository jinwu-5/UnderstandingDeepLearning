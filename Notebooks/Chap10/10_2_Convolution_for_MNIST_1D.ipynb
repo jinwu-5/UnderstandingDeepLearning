{
  "nbformat": 4,
  "nbformat_minor": 0,
  "metadata": {
    "colab": {
      "provenance": [],
      "include_colab_link": true
    },
    "kernelspec": {
      "name": "python3",
      "display_name": "Python 3"
    },
    "language_info": {
      "name": "python"
    }
  },
  "cells": [
    {
      "cell_type": "markdown",
      "metadata": {
        "id": "view-in-github",
        "colab_type": "text"
      },
      "source": [
        "<a href=\"https://colab.research.google.com/github/jinwu-5/UnderstandingDeepLearning/blob/main/Notebooks/Chap10/10_2_Convolution_for_MNIST_1D.ipynb\" target=\"_parent\"><img src=\"https://colab.research.google.com/assets/colab-badge.svg\" alt=\"Open In Colab\"/></a>"
      ]
    },
    {
      "cell_type": "markdown",
      "source": [
        "# **Notebook 10.2: Convolution for MNIST-1D**\n",
        "\n",
        "This notebook investigates a 1D convolutional network for MNIST-1D as in figure 10.7 and 10.8a.\n",
        "\n",
        "Work through the cells below, running each cell in turn. In various places you will see the words \"TODO\". Follow the instructions at these places and make predictions about what is going to happen or write code to complete the functions.\n",
        "\n",
        "Contact me at udlbookmail@gmail.com if you find any mistakes or have any suggestions.\n",
        "\n"
      ],
      "metadata": {
        "id": "t9vk9Elugvmi"
      }
    },
    {
      "cell_type": "code",
      "source": [
        "# Run this if you're in a Colab to install MNIST 1D repository\n",
        "!pip install git+https://github.com/greydanus/mnist1d"
      ],
      "metadata": {
        "id": "D5yLObtZCi9J",
        "outputId": "badb90f5-3cf1-4d70-8b22-fcdddb342c39",
        "colab": {
          "base_uri": "https://localhost:8080/"
        }
      },
      "execution_count": 1,
      "outputs": [
        {
          "output_type": "stream",
          "name": "stdout",
          "text": [
            "Collecting git+https://github.com/greydanus/mnist1d\n",
            "  Cloning https://github.com/greydanus/mnist1d to /tmp/pip-req-build-i93zl0_0\n",
            "  Running command git clone --filter=blob:none --quiet https://github.com/greydanus/mnist1d /tmp/pip-req-build-i93zl0_0\n",
            "  Resolved https://github.com/greydanus/mnist1d to commit 7878d96082abd200c546a07a4101fa90b30fdf7e\n",
            "  Installing build dependencies ... \u001b[?25l\u001b[?25hdone\n",
            "  Getting requirements to build wheel ... \u001b[?25l\u001b[?25hdone\n",
            "  Preparing metadata (pyproject.toml) ... \u001b[?25l\u001b[?25hdone\n",
            "Requirement already satisfied: requests in /usr/local/lib/python3.11/dist-packages (from mnist1d==0.0.2.post16) (2.32.3)\n",
            "Requirement already satisfied: numpy in /usr/local/lib/python3.11/dist-packages (from mnist1d==0.0.2.post16) (2.0.2)\n",
            "Requirement already satisfied: matplotlib in /usr/local/lib/python3.11/dist-packages (from mnist1d==0.0.2.post16) (3.10.0)\n",
            "Requirement already satisfied: scipy in /usr/local/lib/python3.11/dist-packages (from mnist1d==0.0.2.post16) (1.16.1)\n",
            "Requirement already satisfied: contourpy>=1.0.1 in /usr/local/lib/python3.11/dist-packages (from matplotlib->mnist1d==0.0.2.post16) (1.3.3)\n",
            "Requirement already satisfied: cycler>=0.10 in /usr/local/lib/python3.11/dist-packages (from matplotlib->mnist1d==0.0.2.post16) (0.12.1)\n",
            "Requirement already satisfied: fonttools>=4.22.0 in /usr/local/lib/python3.11/dist-packages (from matplotlib->mnist1d==0.0.2.post16) (4.59.0)\n",
            "Requirement already satisfied: kiwisolver>=1.3.1 in /usr/local/lib/python3.11/dist-packages (from matplotlib->mnist1d==0.0.2.post16) (1.4.9)\n",
            "Requirement already satisfied: packaging>=20.0 in /usr/local/lib/python3.11/dist-packages (from matplotlib->mnist1d==0.0.2.post16) (25.0)\n",
            "Requirement already satisfied: pillow>=8 in /usr/local/lib/python3.11/dist-packages (from matplotlib->mnist1d==0.0.2.post16) (11.3.0)\n",
            "Requirement already satisfied: pyparsing>=2.3.1 in /usr/local/lib/python3.11/dist-packages (from matplotlib->mnist1d==0.0.2.post16) (3.2.3)\n",
            "Requirement already satisfied: python-dateutil>=2.7 in /usr/local/lib/python3.11/dist-packages (from matplotlib->mnist1d==0.0.2.post16) (2.9.0.post0)\n",
            "Requirement already satisfied: charset-normalizer<4,>=2 in /usr/local/lib/python3.11/dist-packages (from requests->mnist1d==0.0.2.post16) (3.4.3)\n",
            "Requirement already satisfied: idna<4,>=2.5 in /usr/local/lib/python3.11/dist-packages (from requests->mnist1d==0.0.2.post16) (3.10)\n",
            "Requirement already satisfied: urllib3<3,>=1.21.1 in /usr/local/lib/python3.11/dist-packages (from requests->mnist1d==0.0.2.post16) (2.5.0)\n",
            "Requirement already satisfied: certifi>=2017.4.17 in /usr/local/lib/python3.11/dist-packages (from requests->mnist1d==0.0.2.post16) (2025.8.3)\n",
            "Requirement already satisfied: six>=1.5 in /usr/local/lib/python3.11/dist-packages (from python-dateutil>=2.7->matplotlib->mnist1d==0.0.2.post16) (1.17.0)\n",
            "Building wheels for collected packages: mnist1d\n",
            "  Building wheel for mnist1d (pyproject.toml) ... \u001b[?25l\u001b[?25hdone\n",
            "  Created wheel for mnist1d: filename=mnist1d-0.0.2.post16-py3-none-any.whl size=14665 sha256=b2f7f9dd67a8f24d8497e19a0d30d8a403965b55efdebe0901ce78a50aa46b25\n",
            "  Stored in directory: /tmp/pip-ephem-wheel-cache-6wgfagub/wheels/d6/38/42/3d2112bc7d915f6195254ac85eb761d922d1b18f52817aa8e2\n",
            "Successfully built mnist1d\n",
            "Installing collected packages: mnist1d\n",
            "Successfully installed mnist1d-0.0.2.post16\n"
          ]
        }
      ]
    },
    {
      "cell_type": "code",
      "source": [
        "import numpy as np\n",
        "import os\n",
        "import torch, torch.nn as nn\n",
        "from torch.utils.data import TensorDataset, DataLoader\n",
        "from torch.optim.lr_scheduler import StepLR\n",
        "import matplotlib.pyplot as plt\n",
        "import mnist1d\n",
        "import random"
      ],
      "metadata": {
        "id": "YrXWAH7sUWvU"
      },
      "execution_count": 2,
      "outputs": []
    },
    {
      "cell_type": "code",
      "source": [
        "args = mnist1d.data.get_dataset_args()\n",
        "data = mnist1d.data.get_dataset(args, path='./mnist1d_data.pkl', download=False, regenerate=False)\n",
        "\n",
        "# The training and test input and outputs are in\n",
        "# data['x'], data['y'], data['x_test'], and data['y_test']\n",
        "print(\"Examples in training set: {}\".format(len(data['y'])))\n",
        "print(\"Examples in test set: {}\".format(len(data['y_test'])))\n",
        "print(\"Length of each example: {}\".format(data['x'].shape[-1]))"
      ],
      "metadata": {
        "id": "twI72ZCrCt5z",
        "outputId": "675b16c2-562b-4851-c957-92148c5e6721",
        "colab": {
          "base_uri": "https://localhost:8080/"
        }
      },
      "execution_count": 3,
      "outputs": [
        {
          "output_type": "stream",
          "name": "stdout",
          "text": [
            "Did or could not load data from ./mnist1d_data.pkl. Rebuilding dataset...\n",
            "Examples in training set: 4000\n",
            "Examples in test set: 1000\n",
            "Length of each example: 40\n"
          ]
        }
      ]
    },
    {
      "cell_type": "code",
      "source": [
        "# Load in the data\n",
        "train_data_x = data['x'].transpose()\n",
        "train_data_y = data['y']\n",
        "val_data_x = data['x_test'].transpose()\n",
        "val_data_y = data['y_test']\n",
        "# Print out sizes\n",
        "print(\"Train data: %d examples (columns), each of which has %d dimensions (rows)\"%((train_data_x.shape[1],train_data_x.shape[0])))\n",
        "print(\"Validation data: %d examples (columns), each of which has %d dimensions (rows)\"%((val_data_x.shape[1],val_data_x.shape[0])))"
      ],
      "metadata": {
        "id": "8bKADvLHbiV5",
        "outputId": "4f4e5a56-6089-4095-be6b-d1ac1e37bc1e",
        "colab": {
          "base_uri": "https://localhost:8080/"
        }
      },
      "execution_count": 4,
      "outputs": [
        {
          "output_type": "stream",
          "name": "stdout",
          "text": [
            "Train data: 4000 examples (columns), each of which has 40 dimensions (rows)\n",
            "Validation data: 1000 examples (columns), each of which has 40 dimensions (rows)\n"
          ]
        }
      ]
    },
    {
      "cell_type": "markdown",
      "source": [
        "Define the network"
      ],
      "metadata": {
        "id": "_sFvRDGrl4qe"
      }
    },
    {
      "cell_type": "code",
      "source": [
        "# There are 40 input dimensions and 10 output dimensions for this data\n",
        "# The inputs correspond to the 40 offsets in the MNIST1D template.\n",
        "D_i = 40\n",
        "# The outputs correspond to the 10 digits\n",
        "D_o = 10\n",
        "\n",
        "\n",
        "# TODO Create a model with the following layers\n",
        "# 1. Convolutional layer, (input=length 40 and 1 channel, kernel size 3, stride 2, padding=\"valid\", 15 output channels )\n",
        "# 2. ReLU\n",
        "# 3. Convolutional layer, (input=length 19 and 15 channels, kernel size 3, stride 2, padding=\"valid\", 15 output channels )\n",
        "# 4. ReLU\n",
        "# 5. Convolutional layer, (input=length 9 and 15 channels, kernel size 3, stride 2, padding=\"valid\", 15 output channels)\n",
        "# 6. ReLU\n",
        "# 7. Flatten (converts 4x15) to length 60\n",
        "# 8. Linear layer (input size = 60, output size = 10)\n",
        "# References:\n",
        "# https://pytorch.org/docs/1.13/generated/torch.nn.Conv1d.html?highlight=conv1d#torch.nn.Conv1d\n",
        "# https://pytorch.org/docs/stable/generated/torch.nn.Flatten.html\n",
        "# https://pytorch.org/docs/1.13/generated/torch.nn.Linear.html?highlight=linear#torch.nn.Linear\n",
        "\n",
        "# NOTE THAT THE CONVOLUTIONAL LAYERS NEED TO TAKE THE NUMBER OF INPUT CHANNELS AS A PARAMETER\n",
        "# AND NOT THE INPUT SIZE.\n",
        "\n",
        "# Replace the following function:\n",
        "# Define the network\n",
        "model = nn.Sequential(\n",
        "    nn.Conv1d(in_channels=1, out_channels=15, kernel_size=3, stride=2, padding=0),  # 40 -> 19\n",
        "    nn.ReLU(),\n",
        "    nn.Conv1d(in_channels=15, out_channels=15, kernel_size=3, stride=2, padding=0), # 19 -> 9\n",
        "    nn.ReLU(),\n",
        "    nn.Conv1d(in_channels=15, out_channels=15, kernel_size=3, stride=2, padding=0), # 9 -> 4\n",
        "    nn.ReLU(),\n",
        "    nn.Flatten(),                               # 15 * 4 = 60 features\n",
        "    nn.Linear(15 * 4, 60),\n",
        "    nn.ReLU(),\n",
        "    nn.Linear(60, 10)\n",
        ")\n",
        "\n",
        "\n",
        "\n"
      ],
      "metadata": {
        "id": "FslroPJJffrh"
      },
      "execution_count": 8,
      "outputs": []
    },
    {
      "cell_type": "code",
      "source": [
        "# He initialization of weights\n",
        "def weights_init(layer_in):\n",
        "  if isinstance(layer_in, nn.Linear):\n",
        "    nn.init.kaiming_uniform_(layer_in.weight)\n",
        "    layer_in.bias.data.fill_(0.0)"
      ],
      "metadata": {
        "id": "YgLaex1pfhqz"
      },
      "execution_count": 9,
      "outputs": []
    },
    {
      "cell_type": "code",
      "source": [
        "# choose cross entropy loss function (equation 5.24 in the loss notes)\n",
        "loss_function = nn.CrossEntropyLoss()\n",
        "# construct SGD optimizer and initialize learning rate and momentum\n",
        "optimizer = torch.optim.SGD(model.parameters(), lr = 0.05, momentum=0.9)\n",
        "# object that decreases learning rate by half every 20 epochs\n",
        "scheduler = StepLR(optimizer, step_size=20, gamma=0.5)\n",
        "# create 100 dummy data points and store in data loader class\n",
        "x_train = torch.tensor(train_data_x.transpose().astype('float32'))\n",
        "y_train = torch.tensor(train_data_y.astype('long')).long()\n",
        "x_val= torch.tensor(val_data_x.transpose().astype('float32'))\n",
        "y_val = torch.tensor(val_data_y.astype('long')).long()\n",
        "\n",
        "# load the data into a class that creates the batches\n",
        "data_loader = DataLoader(TensorDataset(x_train,y_train), batch_size=100, shuffle=True, worker_init_fn=np.random.seed(1))\n",
        "\n",
        "# Initialize model weights\n",
        "model.apply(weights_init)\n",
        "\n",
        "# loop over the dataset n_epoch times\n",
        "n_epoch = 100\n",
        "# store the loss and the % correct at each epoch\n",
        "losses_train = np.zeros((n_epoch))\n",
        "errors_train = np.zeros((n_epoch))\n",
        "losses_val = np.zeros((n_epoch))\n",
        "errors_val = np.zeros((n_epoch))\n",
        "\n",
        "for epoch in range(n_epoch):\n",
        "  # loop over batches\n",
        "  for i, data in enumerate(data_loader):\n",
        "    # retrieve inputs and labels for this batch\n",
        "    x_batch, y_batch = data\n",
        "    # zero the parameter gradients\n",
        "    optimizer.zero_grad()\n",
        "    # forward pass -- calculate model output\n",
        "    pred = model(x_batch[:,None,:])\n",
        "    # compute the loss\n",
        "    loss = loss_function(pred, y_batch)\n",
        "    # backward pass\n",
        "    loss.backward()\n",
        "    # SGD update\n",
        "    optimizer.step()\n",
        "\n",
        "  # Run whole dataset to get statistics -- normally wouldn't do this\n",
        "  pred_train = model(x_train[:,None,:])\n",
        "  pred_val = model(x_val[:,None,:])\n",
        "  _, predicted_train_class = torch.max(pred_train.data, 1)\n",
        "  _, predicted_val_class = torch.max(pred_val.data, 1)\n",
        "  errors_train[epoch] = 100 - 100 * (predicted_train_class == y_train).float().sum() / len(y_train)\n",
        "  errors_val[epoch]= 100 - 100 * (predicted_val_class == y_val).float().sum() / len(y_val)\n",
        "  losses_train[epoch] = loss_function(pred_train, y_train).item()\n",
        "  losses_val[epoch]= loss_function(pred_val, y_val).item()\n",
        "  print(f'Epoch {epoch:5d}, train loss {losses_train[epoch]:.6f}, train error {errors_train[epoch]:3.2f},  val loss {losses_val[epoch]:.6f}, percent error {errors_val[epoch]:3.2f}')\n",
        "\n",
        "  # tell scheduler to consider updating learning rate\n",
        "  scheduler.step()\n",
        "\n",
        "# Plot the results\n",
        "fig, ax = plt.subplots()\n",
        "ax.plot(errors_train,'r-',label='train')\n",
        "ax.plot(errors_val,'b-',label='validation')\n",
        "ax.set_ylim(0,100); ax.set_xlim(0,n_epoch)\n",
        "ax.set_xlabel('Epoch'); ax.set_ylabel('Error')\n",
        "ax.set_title('Part I: Validation Result %3.2f'%(errors_val[-1]))\n",
        "ax.legend()\n",
        "plt.show()"
      ],
      "metadata": {
        "id": "NYw8I_3mmX5c",
        "outputId": "62d972b2-b365-4af9-c140-029f4f4bab87",
        "colab": {
          "base_uri": "https://localhost:8080/",
          "height": 1000
        }
      },
      "execution_count": 10,
      "outputs": [
        {
          "output_type": "stream",
          "name": "stdout",
          "text": [
            "Epoch     0, train loss 1.746902, train error 70.75,  val loss 1.743657, percent error 72.50\n",
            "Epoch     1, train loss 1.438949, train error 58.80,  val loss 1.462836, percent error 60.20\n",
            "Epoch     2, train loss 1.237014, train error 50.95,  val loss 1.269727, percent error 53.50\n",
            "Epoch     3, train loss 1.184374, train error 49.35,  val loss 1.229239, percent error 51.00\n",
            "Epoch     4, train loss 1.038921, train error 43.90,  val loss 1.073083, percent error 46.20\n",
            "Epoch     5, train loss 0.949178, train error 39.38,  val loss 1.002979, percent error 41.70\n",
            "Epoch     6, train loss 0.960771, train error 38.60,  val loss 1.027094, percent error 42.40\n",
            "Epoch     7, train loss 0.705560, train error 28.00,  val loss 0.771572, percent error 32.00\n",
            "Epoch     8, train loss 0.573626, train error 22.57,  val loss 0.641788, percent error 24.90\n",
            "Epoch     9, train loss 0.560156, train error 22.65,  val loss 0.682884, percent error 24.90\n",
            "Epoch    10, train loss 0.515768, train error 21.72,  val loss 0.642366, percent error 26.40\n",
            "Epoch    11, train loss 0.445100, train error 17.90,  val loss 0.595808, percent error 22.40\n",
            "Epoch    12, train loss 0.345642, train error 13.50,  val loss 0.506032, percent error 19.40\n",
            "Epoch    13, train loss 0.364627, train error 14.57,  val loss 0.516890, percent error 18.70\n",
            "Epoch    14, train loss 0.440890, train error 17.55,  val loss 0.582101, percent error 22.30\n",
            "Epoch    15, train loss 0.270816, train error 9.97,  val loss 0.428521, percent error 14.30\n",
            "Epoch    16, train loss 0.254042, train error 8.97,  val loss 0.430258, percent error 15.30\n",
            "Epoch    17, train loss 0.290145, train error 10.85,  val loss 0.495702, percent error 15.90\n",
            "Epoch    18, train loss 0.213490, train error 7.53,  val loss 0.449107, percent error 14.90\n",
            "Epoch    19, train loss 0.227925, train error 8.60,  val loss 0.402351, percent error 13.00\n",
            "Epoch    20, train loss 0.120543, train error 4.00,  val loss 0.343778, percent error 10.30\n",
            "Epoch    21, train loss 0.118395, train error 4.03,  val loss 0.346903, percent error 10.80\n",
            "Epoch    22, train loss 0.108932, train error 3.95,  val loss 0.398160, percent error 11.50\n",
            "Epoch    23, train loss 0.093219, train error 3.30,  val loss 0.357827, percent error 10.90\n",
            "Epoch    24, train loss 0.086773, train error 2.88,  val loss 0.346538, percent error 10.30\n",
            "Epoch    25, train loss 0.089653, train error 2.93,  val loss 0.367071, percent error 11.40\n",
            "Epoch    26, train loss 0.080134, train error 2.60,  val loss 0.391605, percent error 10.40\n",
            "Epoch    27, train loss 0.095338, train error 3.40,  val loss 0.390153, percent error 11.70\n",
            "Epoch    28, train loss 0.060192, train error 1.95,  val loss 0.384164, percent error 10.30\n",
            "Epoch    29, train loss 0.056702, train error 1.53,  val loss 0.370183, percent error 9.90\n",
            "Epoch    30, train loss 0.052204, train error 1.40,  val loss 0.367818, percent error 9.40\n",
            "Epoch    31, train loss 0.041074, train error 1.00,  val loss 0.358572, percent error 9.40\n",
            "Epoch    32, train loss 0.052113, train error 1.65,  val loss 0.424230, percent error 10.70\n",
            "Epoch    33, train loss 0.041293, train error 0.90,  val loss 0.417846, percent error 9.90\n",
            "Epoch    34, train loss 0.043069, train error 1.15,  val loss 0.401648, percent error 10.30\n",
            "Epoch    35, train loss 0.028540, train error 0.70,  val loss 0.375119, percent error 9.80\n",
            "Epoch    36, train loss 0.062670, train error 2.03,  val loss 0.480775, percent error 11.60\n",
            "Epoch    37, train loss 0.036123, train error 0.93,  val loss 0.440828, percent error 10.30\n",
            "Epoch    38, train loss 0.028233, train error 0.82,  val loss 0.432065, percent error 9.80\n",
            "Epoch    39, train loss 0.035147, train error 0.90,  val loss 0.433947, percent error 9.90\n",
            "Epoch    40, train loss 0.020351, train error 0.38,  val loss 0.416202, percent error 9.60\n",
            "Epoch    41, train loss 0.021615, train error 0.50,  val loss 0.424523, percent error 10.20\n",
            "Epoch    42, train loss 0.015245, train error 0.20,  val loss 0.424529, percent error 9.80\n",
            "Epoch    43, train loss 0.012943, train error 0.18,  val loss 0.427596, percent error 9.20\n",
            "Epoch    44, train loss 0.014284, train error 0.28,  val loss 0.438833, percent error 9.50\n",
            "Epoch    45, train loss 0.012809, train error 0.15,  val loss 0.444443, percent error 9.60\n",
            "Epoch    46, train loss 0.013165, train error 0.12,  val loss 0.453420, percent error 9.60\n",
            "Epoch    47, train loss 0.013859, train error 0.18,  val loss 0.463280, percent error 10.10\n",
            "Epoch    48, train loss 0.012306, train error 0.10,  val loss 0.470894, percent error 9.70\n",
            "Epoch    49, train loss 0.010748, train error 0.05,  val loss 0.469349, percent error 9.50\n",
            "Epoch    50, train loss 0.011710, train error 0.12,  val loss 0.467068, percent error 9.20\n",
            "Epoch    51, train loss 0.009921, train error 0.05,  val loss 0.464824, percent error 9.40\n",
            "Epoch    52, train loss 0.009071, train error 0.00,  val loss 0.475771, percent error 9.40\n",
            "Epoch    53, train loss 0.009138, train error 0.07,  val loss 0.492305, percent error 9.60\n",
            "Epoch    54, train loss 0.008472, train error 0.00,  val loss 0.476161, percent error 9.60\n",
            "Epoch    55, train loss 0.008011, train error 0.03,  val loss 0.480814, percent error 9.70\n",
            "Epoch    56, train loss 0.007529, train error 0.00,  val loss 0.501651, percent error 9.50\n",
            "Epoch    57, train loss 0.008309, train error 0.05,  val loss 0.509385, percent error 9.80\n",
            "Epoch    58, train loss 0.007129, train error 0.00,  val loss 0.492375, percent error 10.00\n",
            "Epoch    59, train loss 0.007171, train error 0.00,  val loss 0.511154, percent error 9.80\n",
            "Epoch    60, train loss 0.006314, train error 0.00,  val loss 0.503907, percent error 9.40\n",
            "Epoch    61, train loss 0.006406, train error 0.00,  val loss 0.509202, percent error 9.50\n",
            "Epoch    62, train loss 0.006049, train error 0.00,  val loss 0.504399, percent error 9.50\n",
            "Epoch    63, train loss 0.006034, train error 0.00,  val loss 0.503324, percent error 9.40\n",
            "Epoch    64, train loss 0.005942, train error 0.00,  val loss 0.514604, percent error 9.20\n",
            "Epoch    65, train loss 0.005800, train error 0.00,  val loss 0.512811, percent error 9.30\n",
            "Epoch    66, train loss 0.005682, train error 0.00,  val loss 0.510868, percent error 9.50\n",
            "Epoch    67, train loss 0.005643, train error 0.00,  val loss 0.516663, percent error 9.70\n",
            "Epoch    68, train loss 0.005481, train error 0.00,  val loss 0.513990, percent error 9.40\n",
            "Epoch    69, train loss 0.005435, train error 0.00,  val loss 0.518729, percent error 9.60\n",
            "Epoch    70, train loss 0.005330, train error 0.00,  val loss 0.517125, percent error 9.30\n",
            "Epoch    71, train loss 0.005526, train error 0.00,  val loss 0.525981, percent error 9.60\n",
            "Epoch    72, train loss 0.005196, train error 0.00,  val loss 0.520688, percent error 9.50\n",
            "Epoch    73, train loss 0.005139, train error 0.00,  val loss 0.518329, percent error 9.70\n",
            "Epoch    74, train loss 0.005218, train error 0.00,  val loss 0.529661, percent error 9.80\n",
            "Epoch    75, train loss 0.004962, train error 0.00,  val loss 0.525152, percent error 9.50\n",
            "Epoch    76, train loss 0.005043, train error 0.00,  val loss 0.526534, percent error 9.60\n",
            "Epoch    77, train loss 0.004819, train error 0.00,  val loss 0.529190, percent error 9.40\n",
            "Epoch    78, train loss 0.004760, train error 0.00,  val loss 0.531070, percent error 9.70\n",
            "Epoch    79, train loss 0.004740, train error 0.00,  val loss 0.531417, percent error 9.70\n",
            "Epoch    80, train loss 0.004630, train error 0.00,  val loss 0.532595, percent error 9.60\n",
            "Epoch    81, train loss 0.004577, train error 0.00,  val loss 0.530555, percent error 9.60\n",
            "Epoch    82, train loss 0.004552, train error 0.00,  val loss 0.531625, percent error 9.50\n",
            "Epoch    83, train loss 0.004530, train error 0.00,  val loss 0.530307, percent error 9.60\n",
            "Epoch    84, train loss 0.004487, train error 0.00,  val loss 0.532973, percent error 9.60\n",
            "Epoch    85, train loss 0.004456, train error 0.00,  val loss 0.532625, percent error 9.60\n",
            "Epoch    86, train loss 0.004444, train error 0.00,  val loss 0.535128, percent error 9.70\n",
            "Epoch    87, train loss 0.004397, train error 0.00,  val loss 0.534180, percent error 9.70\n",
            "Epoch    88, train loss 0.004371, train error 0.00,  val loss 0.535106, percent error 9.70\n",
            "Epoch    89, train loss 0.004381, train error 0.00,  val loss 0.533132, percent error 9.60\n",
            "Epoch    90, train loss 0.004317, train error 0.00,  val loss 0.537965, percent error 9.50\n",
            "Epoch    91, train loss 0.004286, train error 0.00,  val loss 0.537164, percent error 9.70\n",
            "Epoch    92, train loss 0.004266, train error 0.00,  val loss 0.535824, percent error 9.70\n",
            "Epoch    93, train loss 0.004230, train error 0.00,  val loss 0.537678, percent error 9.70\n",
            "Epoch    94, train loss 0.004251, train error 0.00,  val loss 0.541237, percent error 9.50\n",
            "Epoch    95, train loss 0.004179, train error 0.00,  val loss 0.539571, percent error 9.80\n",
            "Epoch    96, train loss 0.004153, train error 0.00,  val loss 0.538549, percent error 9.80\n",
            "Epoch    97, train loss 0.004126, train error 0.00,  val loss 0.539181, percent error 9.60\n",
            "Epoch    98, train loss 0.004142, train error 0.00,  val loss 0.538009, percent error 9.70\n",
            "Epoch    99, train loss 0.004074, train error 0.00,  val loss 0.542239, percent error 9.60\n"
          ]
        },
        {
          "output_type": "display_data",
          "data": {
            "text/plain": [
              "<Figure size 640x480 with 1 Axes>"
            ],
            "image/png": "[encoded data removed]"
          },
          "metadata": {}
        }
      ]
    }
  ]
}