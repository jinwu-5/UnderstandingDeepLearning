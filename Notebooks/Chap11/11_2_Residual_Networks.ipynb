{
  "nbformat": 4,
  "nbformat_minor": 0,
  "metadata": {
    "colab": {
      "provenance": [],
      "include_colab_link": true
    },
    "kernelspec": {
      "name": "python3",
      "display_name": "Python 3"
    },
    "language_info": {
      "name": "python"
    }
  },
  "cells": [
    {
      "cell_type": "markdown",
      "metadata": {
        "id": "view-in-github",
        "colab_type": "text"
      },
      "source": [
        "<a href=\"https://colab.research.google.com/github/jinwu-5/UnderstandingDeepLearning/blob/main/Notebooks/Chap11/11_2_Residual_Networks.ipynb\" target=\"_parent\"><img src=\"https://colab.research.google.com/assets/colab-badge.svg\" alt=\"Open In Colab\"/></a>"
      ]
    },
    {
      "cell_type": "markdown",
      "source": [
        "# **Notebook 11.2: Residual Networks**\n",
        "\n",
        "This notebook adapts the networks for MNIST1D to use residual connections.\n",
        "\n",
        "Work through the cells below, running each cell in turn. In various places you will see the words \"TODO\". Follow the instructions at these places and make predictions about what is going to happen or write code to complete the functions.\n",
        "\n",
        "Contact me at udlbookmail@gmail.com if you find any mistakes or have any suggestions.\n",
        "\n"
      ],
      "metadata": {
        "id": "t9vk9Elugvmi"
      }
    },
    {
      "cell_type": "code",
      "source": [
        "# Run this if you're in a Colab to install MNIST 1D repository\n",
        "!pip install git+https://github.com/greydanus/mnist1d"
      ],
      "metadata": {
        "id": "D5yLObtZCi9J",
        "outputId": "a1920f7c-60f8-4a5d-f01c-787e0ca2d5d5",
        "colab": {
          "base_uri": "https://localhost:8080/"
        }
      },
      "execution_count": 1,
      "outputs": [
        {
          "output_type": "stream",
          "name": "stdout",
          "text": [
            "Collecting git+https://github.com/greydanus/mnist1d\n",
            "  Cloning https://github.com/greydanus/mnist1d to /tmp/pip-req-build-_tyqcx6y\n",
            "  Running command git clone --filter=blob:none --quiet https://github.com/greydanus/mnist1d /tmp/pip-req-build-_tyqcx6y\n",
            "  Resolved https://github.com/greydanus/mnist1d to commit 7878d96082abd200c546a07a4101fa90b30fdf7e\n",
            "  Installing build dependencies ... \u001b[?25l\u001b[?25hdone\n",
            "  Getting requirements to build wheel ... \u001b[?25l\u001b[?25hdone\n",
            "  Preparing metadata (pyproject.toml) ... \u001b[?25l\u001b[?25hdone\n",
            "Requirement already satisfied: requests in /usr/local/lib/python3.11/dist-packages (from mnist1d==0.0.2.post16) (2.32.3)\n",
            "Requirement already satisfied: numpy in /usr/local/lib/python3.11/dist-packages (from mnist1d==0.0.2.post16) (2.0.2)\n",
            "Requirement already satisfied: matplotlib in /usr/local/lib/python3.11/dist-packages (from mnist1d==0.0.2.post16) (3.10.0)\n",
            "Requirement already satisfied: scipy in /usr/local/lib/python3.11/dist-packages (from mnist1d==0.0.2.post16) (1.16.1)\n",
            "Requirement already satisfied: contourpy>=1.0.1 in /usr/local/lib/python3.11/dist-packages (from matplotlib->mnist1d==0.0.2.post16) (1.3.3)\n",
            "Requirement already satisfied: cycler>=0.10 in /usr/local/lib/python3.11/dist-packages (from matplotlib->mnist1d==0.0.2.post16) (0.12.1)\n",
            "Requirement already satisfied: fonttools>=4.22.0 in /usr/local/lib/python3.11/dist-packages (from matplotlib->mnist1d==0.0.2.post16) (4.59.0)\n",
            "Requirement already satisfied: kiwisolver>=1.3.1 in /usr/local/lib/python3.11/dist-packages (from matplotlib->mnist1d==0.0.2.post16) (1.4.9)\n",
            "Requirement already satisfied: packaging>=20.0 in /usr/local/lib/python3.11/dist-packages (from matplotlib->mnist1d==0.0.2.post16) (25.0)\n",
            "Requirement already satisfied: pillow>=8 in /usr/local/lib/python3.11/dist-packages (from matplotlib->mnist1d==0.0.2.post16) (11.3.0)\n",
            "Requirement already satisfied: pyparsing>=2.3.1 in /usr/local/lib/python3.11/dist-packages (from matplotlib->mnist1d==0.0.2.post16) (3.2.3)\n",
            "Requirement already satisfied: python-dateutil>=2.7 in /usr/local/lib/python3.11/dist-packages (from matplotlib->mnist1d==0.0.2.post16) (2.9.0.post0)\n",
            "Requirement already satisfied: charset-normalizer<4,>=2 in /usr/local/lib/python3.11/dist-packages (from requests->mnist1d==0.0.2.post16) (3.4.3)\n",
            "Requirement already satisfied: idna<4,>=2.5 in /usr/local/lib/python3.11/dist-packages (from requests->mnist1d==0.0.2.post16) (3.10)\n",
            "Requirement already satisfied: urllib3<3,>=1.21.1 in /usr/local/lib/python3.11/dist-packages (from requests->mnist1d==0.0.2.post16) (2.5.0)\n",
            "Requirement already satisfied: certifi>=2017.4.17 in /usr/local/lib/python3.11/dist-packages (from requests->mnist1d==0.0.2.post16) (2025.8.3)\n",
            "Requirement already satisfied: six>=1.5 in /usr/local/lib/python3.11/dist-packages (from python-dateutil>=2.7->matplotlib->mnist1d==0.0.2.post16) (1.17.0)\n",
            "Building wheels for collected packages: mnist1d\n",
            "  Building wheel for mnist1d (pyproject.toml) ... \u001b[?25l\u001b[?25hdone\n",
            "  Created wheel for mnist1d: filename=mnist1d-0.0.2.post16-py3-none-any.whl size=14665 sha256=9415b71daaaec182ad667729370d2b067c73cacccfd202fff0d2fb28a0b63067\n",
            "  Stored in directory: /tmp/pip-ephem-wheel-cache-adzhhr0u/wheels/d6/38/42/3d2112bc7d915f6195254ac85eb761d922d1b18f52817aa8e2\n",
            "Successfully built mnist1d\n",
            "Installing collected packages: mnist1d\n",
            "Successfully installed mnist1d-0.0.2.post16\n"
          ]
        }
      ]
    },
    {
      "cell_type": "code",
      "source": [
        "import numpy as np\n",
        "import os\n",
        "import torch, torch.nn as nn\n",
        "from torch.utils.data import TensorDataset, DataLoader\n",
        "from torch.optim.lr_scheduler import StepLR\n",
        "import matplotlib.pyplot as plt\n",
        "import mnist1d\n",
        "import random"
      ],
      "metadata": {
        "id": "YrXWAH7sUWvU"
      },
      "execution_count": 2,
      "outputs": []
    },
    {
      "cell_type": "code",
      "source": [
        "args = mnist1d.data.get_dataset_args()\n",
        "data = mnist1d.data.get_dataset(args, path='./mnist1d_data.pkl', download=False, regenerate=False)\n",
        "\n",
        "# The training and test input and outputs are in\n",
        "# data['x'], data['y'], data['x_test'], and data['y_test']\n",
        "print(\"Examples in training set: {}\".format(len(data['y'])))\n",
        "print(\"Examples in test set: {}\".format(len(data['y_test'])))\n",
        "print(\"Length of each example: {}\".format(data['x'].shape[-1]))"
      ],
      "metadata": {
        "id": "twI72ZCrCt5z",
        "outputId": "a5525c5b-14c1-4791-fbfe-6ea569c765ae",
        "colab": {
          "base_uri": "https://localhost:8080/"
        }
      },
      "execution_count": 3,
      "outputs": [
        {
          "output_type": "stream",
          "name": "stdout",
          "text": [
            "Did or could not load data from ./mnist1d_data.pkl. Rebuilding dataset...\n",
            "Examples in training set: 4000\n",
            "Examples in test set: 1000\n",
            "Length of each example: 40\n"
          ]
        }
      ]
    },
    {
      "cell_type": "code",
      "source": [
        "# Load in the data\n",
        "train_data_x = data['x'].transpose()\n",
        "train_data_y = data['y']\n",
        "val_data_x = data['x_test'].transpose()\n",
        "val_data_y = data['y_test']\n",
        "# Print out sizes\n",
        "print(\"Train data: %d examples (columns), each of which has %d dimensions (rows)\"%((train_data_x.shape[1],train_data_x.shape[0])))\n",
        "print(\"Validation data: %d examples (columns), each of which has %d dimensions (rows)\"%((val_data_x.shape[1],val_data_x.shape[0])))"
      ],
      "metadata": {
        "id": "8bKADvLHbiV5",
        "outputId": "419a87bb-af19-4e28-e652-4e417f6c77c3",
        "colab": {
          "base_uri": "https://localhost:8080/"
        }
      },
      "execution_count": 4,
      "outputs": [
        {
          "output_type": "stream",
          "name": "stdout",
          "text": [
            "Train data: 4000 examples (columns), each of which has 40 dimensions (rows)\n",
            "Validation data: 1000 examples (columns), each of which has 40 dimensions (rows)\n"
          ]
        }
      ]
    },
    {
      "cell_type": "markdown",
      "source": [
        "Define the network"
      ],
      "metadata": {
        "id": "_sFvRDGrl4qe"
      }
    },
    {
      "cell_type": "code",
      "source": [
        "# There are 40 input dimensions and 10 output dimensions for this data\n",
        "# The inputs correspond to the 40 offsets in the MNIST1D template.\n",
        "D_i = 40\n",
        "# The outputs correspond to the 10 digits\n",
        "D_o = 10\n",
        "\n",
        "\n",
        "# We will adapt this model to have residual connections around the linear layers\n",
        "# This is the same model we used in practical 8.1, but we can't use the sequential\n",
        "# class for residual networks (which aren't strictly sequential).  Hence, I've rewritten\n",
        "# it as a model that inherits from a base class\n",
        "\n",
        "class ResidualNetwork(torch.nn.Module):\n",
        "    def __init__(self, input_size, output_size, hidden_size=100):\n",
        "        super(ResidualNetwork, self).__init__()\n",
        "        self.linear1 = nn.Linear(input_size, hidden_size)\n",
        "        self.linear2 = nn.Linear(hidden_size, hidden_size)\n",
        "        self.linear3 = nn.Linear(hidden_size, hidden_size)\n",
        "        self.linear4 = nn.Linear(hidden_size, output_size)\n",
        "        print(\"Initialized MLPBase model with {} parameters\".format(self.count_params()))\n",
        "\n",
        "    def count_params(self):\n",
        "        return sum(p.numel() for p in self.parameters())\n",
        "\n",
        "    # ---- TODO completed: add residual connections ----\n",
        "    # Block 1: h1 + Linear2(ReLU(h1))\n",
        "    # Block 2: z1 + Linear3(ReLU(z1))\n",
        "    # Output logits: Linear4(z2)\n",
        "    def forward(self, x):\n",
        "        h1 = self.linear1(x)                           # (B, H)\n",
        "        z1 = h1 + self.linear2(h1.relu())              # residual block 1\n",
        "        z2 = z1 + self.linear3(z1.relu())              # residual block 2\n",
        "        out = self.linear4(z2)                         # logits for CrossEntropyLoss\n",
        "        return out\n",
        "\n"
      ],
      "metadata": {
        "id": "FslroPJJffrh"
      },
      "execution_count": 17,
      "outputs": []
    },
    {
      "cell_type": "code",
      "source": [
        "# He initialization of weights\n",
        "def weights_init(layer_in):\n",
        "  if isinstance(layer_in, nn.Linear):\n",
        "    nn.init.kaiming_uniform_(layer_in.weight)\n",
        "    layer_in.bias.data.fill_(0.0)"
      ],
      "metadata": {
        "id": "YgLaex1pfhqz"
      },
      "execution_count": 18,
      "outputs": []
    },
    {
      "cell_type": "code",
      "source": [
        "#Define the model\n",
        "model = ResidualNetwork(40, 10)\n",
        "\n",
        "# choose cross entropy loss function (equation 5.24 in the loss notes)\n",
        "loss_function = nn.CrossEntropyLoss()\n",
        "# construct SGD optimizer and initialize learning rate and momentum\n",
        "optimizer = torch.optim.SGD(model.parameters(), lr = 0.05, momentum=0.9)\n",
        "# object that decreases learning rate by half every 20 epochs\n",
        "scheduler = StepLR(optimizer, step_size=20, gamma=0.5)\n",
        "# convert data to torch tensors\n",
        "x_train = torch.tensor(train_data_x.transpose().astype('float32'))\n",
        "y_train = torch.tensor(train_data_y.astype('long'))\n",
        "x_val= torch.tensor(val_data_x.transpose().astype('float32'))\n",
        "y_val = torch.tensor(val_data_y.astype('long'))\n",
        "\n",
        "# load the data into a class that creates the batches\n",
        "data_loader = DataLoader(TensorDataset(x_train,y_train), batch_size=100, shuffle=True, worker_init_fn=np.random.seed(1))\n",
        "\n",
        "# Initialize model weights\n",
        "model.apply(weights_init)\n",
        "\n",
        "# loop over the dataset n_epoch times\n",
        "n_epoch = 100\n",
        "# store the loss and the % correct at each epoch\n",
        "losses_train = np.zeros((n_epoch))\n",
        "errors_train = np.zeros((n_epoch))\n",
        "losses_val = np.zeros((n_epoch))\n",
        "errors_val = np.zeros((n_epoch))\n",
        "\n",
        "for epoch in range(n_epoch):\n",
        "  # loop over batches\n",
        "  for i, data in enumerate(data_loader):\n",
        "    # retrieve inputs and labels for this batch\n",
        "    x_batch, y_batch = data\n",
        "    # zero the parameter gradients\n",
        "    optimizer.zero_grad()\n",
        "    # forward pass -- calculate model output\n",
        "    pred = model(x_batch)\n",
        "    # compute the loss\n",
        "    loss = loss_function(pred, y_batch)\n",
        "    # backward pass\n",
        "    loss.backward()\n",
        "    # SGD update\n",
        "    optimizer.step()\n",
        "\n",
        "  # Run whole dataset to get statistics -- normally wouldn't do this\n",
        "  pred_train = model(x_train)\n",
        "  pred_val = model(x_val)\n",
        "  _, predicted_train_class = torch.max(pred_train.data, 1)\n",
        "  _, predicted_val_class = torch.max(pred_val.data, 1)\n",
        "  errors_train[epoch] = 100 - 100 * (predicted_train_class == y_train).float().sum() / len(y_train)\n",
        "  errors_val[epoch]= 100 - 100 * (predicted_val_class == y_val).float().sum() / len(y_val)\n",
        "  losses_train[epoch] = loss_function(pred_train, y_train).item()\n",
        "  losses_val[epoch]= loss_function(pred_val, y_val).item()\n",
        "  print(f'Epoch {epoch:5d}, train loss {losses_train[epoch]:.6f}, train error {errors_train[epoch]:3.2f},  val loss {losses_val[epoch]:.6f}, percent error {errors_val[epoch]:3.2f}')\n",
        "\n",
        "  # tell scheduler to consider updating learning rate\n",
        "  scheduler.step()"
      ],
      "metadata": {
        "id": "NYw8I_3mmX5c",
        "outputId": "483353d2-cabb-4b4e-e9ef-4208e8f40b21",
        "colab": {
          "base_uri": "https://localhost:8080/"
        }
      },
      "execution_count": 19,
      "outputs": [
        {
          "output_type": "stream",
          "name": "stdout",
          "text": [
            "Initialized MLPBase model with 25310 parameters\n",
            "Epoch     0, train loss 1.555233, train error 59.67,  val loss 1.638416, percent error 64.90\n",
            "Epoch     1, train loss 1.150840, train error 43.38,  val loss 1.309000, percent error 50.50\n",
            "Epoch     2, train loss 0.989506, train error 37.30,  val loss 1.227944, percent error 48.40\n",
            "Epoch     3, train loss 0.869289, train error 33.07,  val loss 1.141622, percent error 46.30\n",
            "Epoch     4, train loss 0.758680, train error 28.80,  val loss 1.168643, percent error 44.10\n",
            "Epoch     5, train loss 0.723595, train error 27.68,  val loss 1.232923, percent error 43.00\n",
            "Epoch     6, train loss 0.684061, train error 26.03,  val loss 1.168400, percent error 40.70\n",
            "Epoch     7, train loss 0.591366, train error 21.80,  val loss 1.161250, percent error 40.00\n",
            "Epoch     8, train loss 0.556262, train error 20.93,  val loss 1.232997, percent error 39.90\n",
            "Epoch     9, train loss 0.549752, train error 20.70,  val loss 1.190161, percent error 37.60\n",
            "Epoch    10, train loss 0.447967, train error 16.18,  val loss 1.229456, percent error 37.40\n",
            "Epoch    11, train loss 0.398838, train error 14.62,  val loss 1.271992, percent error 37.80\n",
            "Epoch    12, train loss 0.410379, train error 14.85,  val loss 1.318709, percent error 36.60\n",
            "Epoch    13, train loss 0.365562, train error 13.57,  val loss 1.363212, percent error 36.50\n",
            "Epoch    14, train loss 0.333834, train error 12.25,  val loss 1.434187, percent error 36.40\n",
            "Epoch    15, train loss 0.301368, train error 10.90,  val loss 1.257766, percent error 33.10\n",
            "Epoch    16, train loss 0.314618, train error 11.28,  val loss 1.413998, percent error 34.50\n",
            "Epoch    17, train loss 0.370723, train error 12.75,  val loss 1.501243, percent error 35.80\n",
            "Epoch    18, train loss 0.256758, train error 8.82,  val loss 1.507049, percent error 34.40\n",
            "Epoch    19, train loss 0.308614, train error 11.18,  val loss 1.671540, percent error 36.90\n",
            "Epoch    20, train loss 0.074691, train error 1.97,  val loss 1.336300, percent error 33.00\n",
            "Epoch    21, train loss 0.030309, train error 0.25,  val loss 1.332898, percent error 32.50\n",
            "Epoch    22, train loss 0.017517, train error 0.03,  val loss 1.338507, percent error 30.90\n",
            "Epoch    23, train loss 0.012795, train error 0.00,  val loss 1.365048, percent error 31.40\n",
            "Epoch    24, train loss 0.010208, train error 0.00,  val loss 1.393407, percent error 31.50\n",
            "Epoch    25, train loss 0.008564, train error 0.00,  val loss 1.419048, percent error 31.30\n",
            "Epoch    26, train loss 0.007491, train error 0.00,  val loss 1.443278, percent error 31.30\n",
            "Epoch    27, train loss 0.006645, train error 0.00,  val loss 1.461665, percent error 31.30\n",
            "Epoch    28, train loss 0.005987, train error 0.00,  val loss 1.479514, percent error 31.30\n",
            "Epoch    29, train loss 0.005446, train error 0.00,  val loss 1.496372, percent error 31.40\n",
            "Epoch    30, train loss 0.005024, train error 0.00,  val loss 1.514576, percent error 31.20\n",
            "Epoch    31, train loss 0.004639, train error 0.00,  val loss 1.526034, percent error 31.20\n",
            "Epoch    32, train loss 0.004316, train error 0.00,  val loss 1.541551, percent error 31.20\n",
            "Epoch    33, train loss 0.004022, train error 0.00,  val loss 1.553048, percent error 31.30\n",
            "Epoch    34, train loss 0.003762, train error 0.00,  val loss 1.566806, percent error 31.20\n",
            "Epoch    35, train loss 0.003544, train error 0.00,  val loss 1.574388, percent error 31.00\n",
            "Epoch    36, train loss 0.003344, train error 0.00,  val loss 1.588871, percent error 31.30\n",
            "Epoch    37, train loss 0.003169, train error 0.00,  val loss 1.597655, percent error 31.10\n",
            "Epoch    38, train loss 0.003008, train error 0.00,  val loss 1.608900, percent error 31.20\n",
            "Epoch    39, train loss 0.002865, train error 0.00,  val loss 1.618329, percent error 31.10\n",
            "Epoch    40, train loss 0.002794, train error 0.00,  val loss 1.623192, percent error 31.00\n",
            "Epoch    41, train loss 0.002731, train error 0.00,  val loss 1.626947, percent error 31.10\n",
            "Epoch    42, train loss 0.002670, train error 0.00,  val loss 1.631083, percent error 31.10\n",
            "Epoch    43, train loss 0.002613, train error 0.00,  val loss 1.635515, percent error 31.10\n",
            "Epoch    44, train loss 0.002558, train error 0.00,  val loss 1.639264, percent error 31.10\n",
            "Epoch    45, train loss 0.002505, train error 0.00,  val loss 1.643994, percent error 31.20\n",
            "Epoch    46, train loss 0.002453, train error 0.00,  val loss 1.648649, percent error 30.90\n",
            "Epoch    47, train loss 0.002404, train error 0.00,  val loss 1.651597, percent error 31.00\n",
            "Epoch    48, train loss 0.002356, train error 0.00,  val loss 1.655685, percent error 31.00\n",
            "Epoch    49, train loss 0.002311, train error 0.00,  val loss 1.660547, percent error 31.00\n",
            "Epoch    50, train loss 0.002267, train error 0.00,  val loss 1.662763, percent error 31.10\n",
            "Epoch    51, train loss 0.002224, train error 0.00,  val loss 1.667017, percent error 31.00\n",
            "Epoch    52, train loss 0.002183, train error 0.00,  val loss 1.670503, percent error 31.00\n",
            "Epoch    53, train loss 0.002143, train error 0.00,  val loss 1.674032, percent error 31.00\n",
            "Epoch    54, train loss 0.002105, train error 0.00,  val loss 1.677846, percent error 31.00\n",
            "Epoch    55, train loss 0.002069, train error 0.00,  val loss 1.681134, percent error 31.00\n",
            "Epoch    56, train loss 0.002033, train error 0.00,  val loss 1.684668, percent error 31.00\n",
            "Epoch    57, train loss 0.001999, train error 0.00,  val loss 1.687899, percent error 31.00\n",
            "Epoch    58, train loss 0.001965, train error 0.00,  val loss 1.690853, percent error 30.90\n",
            "Epoch    59, train loss 0.001932, train error 0.00,  val loss 1.694740, percent error 30.90\n",
            "Epoch    60, train loss 0.001916, train error 0.00,  val loss 1.696203, percent error 30.90\n",
            "Epoch    61, train loss 0.001901, train error 0.00,  val loss 1.697793, percent error 30.80\n",
            "Epoch    62, train loss 0.001885, train error 0.00,  val loss 1.699354, percent error 30.90\n",
            "Epoch    63, train loss 0.001871, train error 0.00,  val loss 1.700963, percent error 30.90\n",
            "Epoch    64, train loss 0.001856, train error 0.00,  val loss 1.702712, percent error 30.80\n",
            "Epoch    65, train loss 0.001841, train error 0.00,  val loss 1.704101, percent error 30.80\n",
            "Epoch    66, train loss 0.001827, train error 0.00,  val loss 1.705602, percent error 30.80\n",
            "Epoch    67, train loss 0.001813, train error 0.00,  val loss 1.706905, percent error 30.80\n",
            "Epoch    68, train loss 0.001799, train error 0.00,  val loss 1.708367, percent error 30.80\n",
            "Epoch    69, train loss 0.001785, train error 0.00,  val loss 1.710326, percent error 30.80\n",
            "Epoch    70, train loss 0.001772, train error 0.00,  val loss 1.712031, percent error 30.80\n",
            "Epoch    71, train loss 0.001759, train error 0.00,  val loss 1.713039, percent error 30.80\n",
            "Epoch    72, train loss 0.001745, train error 0.00,  val loss 1.714441, percent error 30.80\n",
            "Epoch    73, train loss 0.001732, train error 0.00,  val loss 1.715977, percent error 30.80\n",
            "Epoch    74, train loss 0.001719, train error 0.00,  val loss 1.717371, percent error 30.80\n",
            "Epoch    75, train loss 0.001707, train error 0.00,  val loss 1.719058, percent error 30.80\n",
            "Epoch    76, train loss 0.001694, train error 0.00,  val loss 1.720465, percent error 30.80\n",
            "Epoch    77, train loss 0.001682, train error 0.00,  val loss 1.721669, percent error 30.90\n",
            "Epoch    78, train loss 0.001670, train error 0.00,  val loss 1.723500, percent error 30.80\n",
            "Epoch    79, train loss 0.001658, train error 0.00,  val loss 1.724801, percent error 30.90\n",
            "Epoch    80, train loss 0.001652, train error 0.00,  val loss 1.725450, percent error 30.90\n",
            "Epoch    81, train loss 0.001646, train error 0.00,  val loss 1.726217, percent error 30.80\n",
            "Epoch    82, train loss 0.001641, train error 0.00,  val loss 1.726822, percent error 30.90\n",
            "Epoch    83, train loss 0.001635, train error 0.00,  val loss 1.727667, percent error 30.90\n",
            "Epoch    84, train loss 0.001629, train error 0.00,  val loss 1.728220, percent error 30.90\n",
            "Epoch    85, train loss 0.001623, train error 0.00,  val loss 1.728907, percent error 31.00\n",
            "Epoch    86, train loss 0.001618, train error 0.00,  val loss 1.729575, percent error 31.00\n",
            "Epoch    87, train loss 0.001612, train error 0.00,  val loss 1.730215, percent error 31.00\n",
            "Epoch    88, train loss 0.001606, train error 0.00,  val loss 1.730977, percent error 31.00\n",
            "Epoch    89, train loss 0.001601, train error 0.00,  val loss 1.731749, percent error 31.00\n",
            "Epoch    90, train loss 0.001595, train error 0.00,  val loss 1.732464, percent error 31.00\n",
            "Epoch    91, train loss 0.001590, train error 0.00,  val loss 1.733117, percent error 31.00\n",
            "Epoch    92, train loss 0.001585, train error 0.00,  val loss 1.733713, percent error 31.00\n",
            "Epoch    93, train loss 0.001579, train error 0.00,  val loss 1.734363, percent error 31.00\n",
            "Epoch    94, train loss 0.001574, train error 0.00,  val loss 1.734934, percent error 31.00\n",
            "Epoch    95, train loss 0.001568, train error 0.00,  val loss 1.735685, percent error 31.00\n",
            "Epoch    96, train loss 0.001563, train error 0.00,  val loss 1.736435, percent error 31.00\n",
            "Epoch    97, train loss 0.001558, train error 0.00,  val loss 1.736998, percent error 31.00\n",
            "Epoch    98, train loss 0.001553, train error 0.00,  val loss 1.737700, percent error 31.00\n",
            "Epoch    99, train loss 0.001547, train error 0.00,  val loss 1.738347, percent error 31.00\n"
          ]
        }
      ]
    },
    {
      "cell_type": "code",
      "source": [
        "# Plot the results\n",
        "fig, ax = plt.subplots()\n",
        "ax.plot(errors_train,'r-',label='train')\n",
        "ax.plot(errors_val,'b-',label='test')\n",
        "ax.set_ylim(0,100); ax.set_xlim(0,n_epoch)\n",
        "ax.set_xlabel('Epoch'); ax.set_ylabel('Error')\n",
        "ax.set_title('TrainError %3.2f, Val Error %3.2f'%(errors_train[-1],errors_val[-1]))\n",
        "ax.legend()\n",
        "plt.show()"
      ],
      "metadata": {
        "id": "CcP_VyEmE2sv",
        "outputId": "0f34fff5-154f-4138-b1a6-cba44834d14f",
        "colab": {
          "base_uri": "https://localhost:8080/",
          "height": 472
        }
      },
      "execution_count": 20,
      "outputs": [
        {
          "output_type": "display_data",
          "data": {
            "text/plain": [
              "<Figure size 640x480 with 1 Axes>"
            ],
            "image/png": "[encoded data removed]"
          },
          "metadata": {}
        }
      ]
    },
    {
      "cell_type": "markdown",
      "source": [
        "The primary motivation of residual networks is to allow training of much deeper networks.   \n",
        "\n",
        "TODO: Try running this network with and without the residual connections.  Does adding the residual connections change the performance?"
      ],
      "metadata": {
        "id": "wMmqhmxuAx0M"
      }
    }
  ]
}