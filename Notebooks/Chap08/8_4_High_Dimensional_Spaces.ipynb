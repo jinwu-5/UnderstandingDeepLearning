{
  "nbformat": 4,
  "nbformat_minor": 0,
  "metadata": {
    "colab": {
      "provenance": [],
      "include_colab_link": true
    },
    "kernelspec": {
      "name": "python3",
      "display_name": "Python 3"
    },
    "language_info": {
      "name": "python"
    }
  },
  "cells": [
    {
      "cell_type": "markdown",
      "metadata": {
        "id": "view-in-github",
        "colab_type": "text"
      },
      "source": [
        "<a href=\"https://colab.research.google.com/github/jinwu-5/UnderstandingDeepLearning/blob/main/Notebooks/Chap08/8_4_High_Dimensional_Spaces.ipynb\" target=\"_parent\"><img src=\"https://colab.research.google.com/assets/colab-badge.svg\" alt=\"Open In Colab\"/></a>"
      ]
    },
    {
      "cell_type": "markdown",
      "source": [
        "# **Notebook 8.4: High-dimensional spaces**\n",
        "\n",
        "This notebook investigates the strange properties of high-dimensional spaces as discussed in the notes at the end of chapter 8.\n",
        "\n",
        "Work through the cells below, running each cell in turn. In various places you will see the words \"TODO\". Follow the instructions at these places and make predictions about what is going to happen or write code to complete the functions.\n",
        "\n",
        "Contact me at udlbookmail@gmail.com if you find any mistakes or have any suggestions."
      ],
      "metadata": {
        "id": "EjLK-kA1KnYX"
      }
    },
    {
      "cell_type": "code",
      "execution_count": 1,
      "metadata": {
        "id": "4ESMmnkYEVAb"
      },
      "outputs": [],
      "source": [
        "import numpy as np\n",
        "import matplotlib.pyplot as plt\n",
        "import scipy.special as sci"
      ]
    },
    {
      "cell_type": "markdown",
      "source": [
        "# How close are points in high dimensions?\n",
        "\n",
        "In this part of the notebook, we investigate how close random points are in 2D, 100D, and 1000D.   In each case, we generate 1000 points and calculate the Euclidean distance between each pair.  "
      ],
      "metadata": {
        "id": "MonbPEitLNgN"
      }
    },
    {
      "cell_type": "code",
      "source": [
        "# Fix the random seed so we all have the same random numbers\n",
        "np.random.seed(0)\n",
        "n_data = 1000\n",
        "# Create 1000 data examples (columns) each with 2 dimensions (rows)\n",
        "n_dim = 2\n",
        "x_2D = np.random.normal(size=(n_dim,n_data))\n",
        "# Create 1000 data examples (columns) each with 100 dimensions (rows)\n",
        "n_dim = 100\n",
        "x_100D = np.random.normal(size=(n_dim,n_data))\n",
        "# Create 1000 data examples (columns) each with 1000 dimensions (rows)\n",
        "n_dim = 1000\n",
        "x_1000D = np.random.normal(size=(n_dim,n_data))"
      ],
      "metadata": {
        "id": "vZSHVmcWEk14"
      },
      "execution_count": 2,
      "outputs": []
    },
    {
      "cell_type": "code",
      "source": [
        "def distance_ratio(x):\n",
        "    \"\"\"\n",
        "    Return ratio of largest to smallest pairwise Euclidean distance between column-vectors of x.\n",
        "    Excludes self-distances on the diagonal.\n",
        "    x: np.ndarray with shape (n_dim, n_points)\n",
        "    \"\"\"\n",
        "    # Squared distances via Gram matrix: D^2 = ||x_i||^2 + ||x_j||^2 - 2 x_i^T x_j\n",
        "    G = x.T @ x\n",
        "    sq_norms = np.sum(x * x, axis=0, keepdims=True)  # (1, n_points)\n",
        "    D2 = sq_norms.T + sq_norms - 2 * G\n",
        "\n",
        "    # Ignore zero self-distances for the min\n",
        "    np.fill_diagonal(D2, np.inf)\n",
        "\n",
        "    smallest_dist = np.sqrt(np.min(D2))\n",
        "    largest_dist  = np.sqrt(np.max(D2[np.isfinite(D2)]))\n",
        "    return largest_dist / smallest_dist\n"
      ],
      "metadata": {
        "id": "PhVmnUs8ErD9"
      },
      "execution_count": 9,
      "outputs": []
    },
    {
      "cell_type": "code",
      "source": [
        "print('Ratio of largest to smallest distance 2D: %3.3f'%(distance_ratio(x_2D)))\n",
        "print('Ratio of largest to smallest distance 100D: %3.3f'%(distance_ratio(x_100D)))\n",
        "print('Ratio of largest to smallest distance 1000D: %3.3f'%(distance_ratio(x_1000D)))\n"
      ],
      "metadata": {
        "id": "0NdPxfn5GQuJ",
        "outputId": "99af7f3b-fee4-4acb-a2bc-d6e8973ed15e",
        "colab": {
          "base_uri": "https://localhost:8080/"
        }
      },
      "execution_count": 10,
      "outputs": [
        {
          "output_type": "stream",
          "name": "stdout",
          "text": [
            "Ratio of largest to smallest distance 2D: 2840.258\n",
            "Ratio of largest to smallest distance 100D: 2.038\n",
            "Ratio of largest to smallest distance 1000D: 1.221\n"
          ]
        }
      ]
    },
    {
      "cell_type": "markdown",
      "source": [
        "If you did this right, you will see that the distance between the nearest and farthest two points in high dimensions is almost the same.  "
      ],
      "metadata": {
        "id": "uT68c0k8uBxs"
      }
    },
    {
      "cell_type": "markdown",
      "source": [
        "# Volume of a hypersphere\n",
        "\n",
        "In the second part of this notebook we calculate the volume of a hypersphere of radius 0.5 (i.e., of diameter 1) as a function of the radius.  Note that you can check your answer by doing the calculation for 2D using the standard formula for the area of a circle and making sure it matches."
      ],
      "metadata": {
        "id": "b2FYKV1SL4Z7"
      }
    },
    {
      "cell_type": "code",
      "source": [
        "def volume_of_hypersphere(diameter, dimensions):\n",
        "    \"\"\"\n",
        "    Volume of a hypersphere:\n",
        "    V = (pi^(d/2) / Gamma(d/2 + 1)) * r^d\n",
        "    where r = diameter / 2\n",
        "    \"\"\"\n",
        "    r = diameter / 2.0\n",
        "    volume = (np.pi ** (dimensions / 2)) / sci.gamma(dimensions / 2 + 1) * (r ** dimensions)\n",
        "    return volume\n"
      ],
      "metadata": {
        "id": "CZoNhD8XJaHR"
      },
      "execution_count": 12,
      "outputs": []
    },
    {
      "cell_type": "code",
      "source": [
        "diameter = 1.0\n",
        "for c_dim in range(1,11):\n",
        "  print(\"Volume of unit diameter hypersphere in %d dimensions is %3.3f\"%(c_dim, volume_of_hypersphere(diameter, c_dim)))"
      ],
      "metadata": {
        "id": "fNTBlg_GPEUh",
        "outputId": "b382be5d-c1c5-433c-a996-1dfd9e622c41",
        "colab": {
          "base_uri": "https://localhost:8080/"
        }
      },
      "execution_count": 13,
      "outputs": [
        {
          "output_type": "stream",
          "name": "stdout",
          "text": [
            "Volume of unit diameter hypersphere in 1 dimensions is 1.000\n",
            "Volume of unit diameter hypersphere in 2 dimensions is 0.785\n",
            "Volume of unit diameter hypersphere in 3 dimensions is 0.524\n",
            "Volume of unit diameter hypersphere in 4 dimensions is 0.308\n",
            "Volume of unit diameter hypersphere in 5 dimensions is 0.164\n",
            "Volume of unit diameter hypersphere in 6 dimensions is 0.081\n",
            "Volume of unit diameter hypersphere in 7 dimensions is 0.037\n",
            "Volume of unit diameter hypersphere in 8 dimensions is 0.016\n",
            "Volume of unit diameter hypersphere in 9 dimensions is 0.006\n",
            "Volume of unit diameter hypersphere in 10 dimensions is 0.002\n"
          ]
        }
      ]
    },
    {
      "cell_type": "markdown",
      "source": [
        "You should see that the volume decreases to almost nothing in high dimensions.  All of the volume is in the corners of the unit hypercube (which always has volume 1)."
      ],
      "metadata": {
        "id": "PtaeGSNBunJl"
      }
    },
    {
      "cell_type": "markdown",
      "source": [
        "# Proportion of hypersphere in outer shell\n",
        "\n",
        "In the third part of the notebook you will calculate what proportion of the volume of a hypersphere is in the outer 1% of the radius/diameter.  Calculate the volume of a hypersphere and then the volume of a hypersphere with 0.99 of the radius and then figure out the ratio.  "
      ],
      "metadata": {
        "id": "GdyMeOBmoXyF"
      }
    },
    {
      "cell_type": "code",
      "source": [
        "def get_prop_of_volume_in_outer_1_percent(dimensions):\n",
        "    \"\"\"\n",
        "    Proportion of volume of a hypersphere in the outer 1% of the radius.\n",
        "    \"\"\"\n",
        "    diameter = 1.0\n",
        "    full_volume = volume_of_hypersphere(diameter, dimensions)\n",
        "    inner_diameter = 0.99 * diameter\n",
        "    inner_volume = volume_of_hypersphere(inner_diameter, dimensions)\n",
        "    return (full_volume - inner_volume) / full_volume"
      ],
      "metadata": {
        "id": "8_CxZ2AIpQ8w"
      },
      "execution_count": 14,
      "outputs": []
    },
    {
      "cell_type": "code",
      "source": [
        "# While we're here, let's look at how much of the volume is in the outer 1% of the radius\n",
        "for c_dim in [1,2,10,20,50,100,150,200,250,300]:\n",
        "  print('Proportion of volume in outer 1 percent of radius in %d dimensions =%3.3f'%(c_dim, get_prop_of_volume_in_outer_1_percent(c_dim)))"
      ],
      "metadata": {
        "id": "LtMDIn2qPVfJ",
        "outputId": "dcf025a1-16d0-4138-c3e5-bb6aca1925c3",
        "colab": {
          "base_uri": "https://localhost:8080/"
        }
      },
      "execution_count": 15,
      "outputs": [
        {
          "output_type": "stream",
          "name": "stdout",
          "text": [
            "Proportion of volume in outer 1 percent of radius in 1 dimensions =0.010\n",
            "Proportion of volume in outer 1 percent of radius in 2 dimensions =0.020\n",
            "Proportion of volume in outer 1 percent of radius in 10 dimensions =0.096\n",
            "Proportion of volume in outer 1 percent of radius in 20 dimensions =0.182\n",
            "Proportion of volume in outer 1 percent of radius in 50 dimensions =0.395\n",
            "Proportion of volume in outer 1 percent of radius in 100 dimensions =0.634\n",
            "Proportion of volume in outer 1 percent of radius in 150 dimensions =0.779\n",
            "Proportion of volume in outer 1 percent of radius in 200 dimensions =0.866\n",
            "Proportion of volume in outer 1 percent of radius in 250 dimensions =0.919\n",
            "Proportion of volume in outer 1 percent of radius in 300 dimensions =0.951\n"
          ]
        }
      ]
    },
    {
      "cell_type": "markdown",
      "source": [
        "You should see that by the time we get to 300 dimensions most of the volume is in the outer 1 percent. <br><br>\n",
        "\n",
        "The conclusion of all of this is that in high dimensions you should be sceptical of your intuitions about how things work.  I have tried to visualize many things in one or two dimensions in the book, but you should also be sceptical about these visualizations!"
      ],
      "metadata": {
        "id": "n_FVeb-ZwzxD"
      }
    }
  ]
}